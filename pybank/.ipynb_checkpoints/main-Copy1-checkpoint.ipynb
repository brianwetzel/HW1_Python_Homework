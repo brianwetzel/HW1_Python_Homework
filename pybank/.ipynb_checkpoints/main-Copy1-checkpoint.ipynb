{
 "cells": [
  {
   "cell_type": "code",
   "execution_count": 87,
   "id": "6ab6d0b1-ef5f-49f4-b6da-b235d30a7bd6",
   "metadata": {},
   "outputs": [
    {
     "name": "stdout",
     "output_type": "stream",
     "text": [
      "The number of months in this data set is 86 .\n"
     ]
    }
   ],
   "source": [
    "# From the pathlib library, import the Path\n",
    "from pathlib import Path\n",
    "\n",
    "# Set the path to CSV file data and call it relative_path\n",
    "relative_file = Path(\"budget_data.csv\")\n",
    "\n",
    "# Initialize dictionary\n",
    "analysis = {}\n",
    "\n",
    "# Open the file in \"read\" mode and store the contents in the variable relative_file\n",
    "with open(relative_file, \"r\") as relative_file:\n",
    "    \n",
    "# Question #1\n",
    "\n",
    "    # Initialize variables.  month_num set to -1 to subtract the first line from the number count.  \n",
    "    # Parse the file line by line, count the number of new lines (\"\\n\"), and store the result in variable \"month_num\"\n",
    "    month_num = -1\n",
    "    for months in relative_file:\n",
    "        if months!= \"\\n\":\n",
    "            month_num += 1        \n",
    "    print(\"The number of months in this data set is\", month_num, \".\")   \n",
    "\n",
    " "
   ]
  },
  {
   "cell_type": "code",
   "execution_count": null,
   "id": "158cd859-a1bd-4124-bf73-aa44f51ded99",
   "metadata": {},
   "outputs": [],
   "source": [
    "# From the pathlib library, import the Path\n",
    "from pathlib import Path\n",
    "\n",
    "# Set the path to CSV file data and call it relative_path\n",
    "relative_file = Path(\"budget_data.csv\")\n",
    "\n",
    "# Open the file in \"read\" mode and store the contents in the variable relative_file\n",
    "with open(relative_file, \"r\") as relative_file:\n",
    "    \n",
    "# Question #2\n"
   ]
  },
  {
   "cell_type": "code",
   "execution_count": null,
   "id": "fbeb32a8-8cf1-4359-bcd6-0d577388d304",
   "metadata": {},
   "outputs": [],
   "source": []
  }
 ],
 "metadata": {
  "kernelspec": {
   "display_name": "Python 3",
   "language": "python",
   "name": "python3"
  },
  "language_info": {
   "codemirror_mode": {
    "name": "ipython",
    "version": 3
   },
   "file_extension": ".py",
   "mimetype": "text/x-python",
   "name": "python",
   "nbconvert_exporter": "python",
   "pygments_lexer": "ipython3",
   "version": "3.7.10"
  }
 },
 "nbformat": 4,
 "nbformat_minor": 5
}
